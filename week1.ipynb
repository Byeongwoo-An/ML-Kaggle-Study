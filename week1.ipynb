{
 "cells": [
  {
   "cell_type": "code",
   "execution_count": null,
   "metadata": {},
   "outputs": [],
   "source": [
    "import numpy as np\n",
    "import pandas as pd\n",
    "import random as rd\n",
    "from matplotlib import pyplot as plt"
   ]
  },
  {
   "cell_type": "markdown",
   "metadata": {},
   "source": [
    "https://sragent.tistory.com/entry/k-means-%EC%86%8C%EA%B0%9C-k-means%EC%97%90%EC%84%9C-%EC%B4%88%EA%B8%B0-center%EB%A5%BC-%EC%9E%98-%EC%84%A0%EC%A0%95%ED%95%98%EB%8A%94-%EB%B0%A9%EB%B2%95\n",
    "\n",
    "https://lovit.github.io/nlp/machine%20learning/2018/03/19/kmeans_initializer/\n",
    "\n",
    "https://ko.wikipedia.org/wiki/K-%ED%8F%89%EA%B7%A0_%EC%95%8C%EA%B3%A0%EB%A6%AC%EC%A6%98\n",
    "\n",
    "https://en.wikipedia.org/wiki/K-means_clustering"
   ]
  },
  {
   "cell_type": "markdown",
   "metadata": {},
   "source": [
    "비지도 군집화 알고리즘 중 하나인 kmeans 알고리즘에 대한 내용입니다.\n",
    "\n",
    "kmeans 알고리즘은 간단하게 설명해서 데이터가 속한 클러스터의 중심점과 데이터간 거리가 최소가 되도록 데이터들을 클러스터에 할당하는 알고리즘입니다.\n",
    "\n",
    "knn 알고리즘과 헷갈리기 쉬운데 knn은 지도 학습이고 kmeans는 비지도 학습입니다."
   ]
  },
  {
   "cell_type": "code",
   "execution_count": 97,
   "metadata": {},
   "outputs": [],
   "source": [
    "data = pd.read_csv('tripadvisor_review.csv')\n",
    "# 예제데이터는 tripadvisor_review 데이터를 사용합니다."
   ]
  },
  {
   "cell_type": "code",
   "execution_count": 98,
   "metadata": {
    "scrolled": true
   },
   "outputs": [
    {
     "data": {
      "text/html": [
       "<div>\n",
       "<style scoped>\n",
       "    .dataframe tbody tr th:only-of-type {\n",
       "        vertical-align: middle;\n",
       "    }\n",
       "\n",
       "    .dataframe tbody tr th {\n",
       "        vertical-align: top;\n",
       "    }\n",
       "\n",
       "    .dataframe thead th {\n",
       "        text-align: right;\n",
       "    }\n",
       "</style>\n",
       "<table border=\"1\" class=\"dataframe\">\n",
       "  <thead>\n",
       "    <tr style=\"text-align: right;\">\n",
       "      <th></th>\n",
       "      <th>User ID</th>\n",
       "      <th>Category 1</th>\n",
       "      <th>Category 2</th>\n",
       "      <th>Category 3</th>\n",
       "      <th>Category 4</th>\n",
       "      <th>Category 5</th>\n",
       "      <th>Category 6</th>\n",
       "      <th>Category 7</th>\n",
       "      <th>Category 8</th>\n",
       "      <th>Category 9</th>\n",
       "      <th>Category 10</th>\n",
       "    </tr>\n",
       "  </thead>\n",
       "  <tbody>\n",
       "    <tr>\n",
       "      <th>0</th>\n",
       "      <td>User 1</td>\n",
       "      <td>0.93</td>\n",
       "      <td>1.8</td>\n",
       "      <td>2.29</td>\n",
       "      <td>0.62</td>\n",
       "      <td>0.80</td>\n",
       "      <td>2.42</td>\n",
       "      <td>3.19</td>\n",
       "      <td>2.79</td>\n",
       "      <td>1.82</td>\n",
       "      <td>2.42</td>\n",
       "    </tr>\n",
       "    <tr>\n",
       "      <th>1</th>\n",
       "      <td>User 2</td>\n",
       "      <td>1.02</td>\n",
       "      <td>2.2</td>\n",
       "      <td>2.66</td>\n",
       "      <td>0.64</td>\n",
       "      <td>1.42</td>\n",
       "      <td>3.18</td>\n",
       "      <td>3.21</td>\n",
       "      <td>2.63</td>\n",
       "      <td>1.86</td>\n",
       "      <td>2.32</td>\n",
       "    </tr>\n",
       "    <tr>\n",
       "      <th>2</th>\n",
       "      <td>User 3</td>\n",
       "      <td>1.22</td>\n",
       "      <td>0.8</td>\n",
       "      <td>0.54</td>\n",
       "      <td>0.53</td>\n",
       "      <td>0.24</td>\n",
       "      <td>1.54</td>\n",
       "      <td>3.18</td>\n",
       "      <td>2.80</td>\n",
       "      <td>1.31</td>\n",
       "      <td>2.50</td>\n",
       "    </tr>\n",
       "    <tr>\n",
       "      <th>3</th>\n",
       "      <td>User 4</td>\n",
       "      <td>0.45</td>\n",
       "      <td>1.8</td>\n",
       "      <td>0.29</td>\n",
       "      <td>0.57</td>\n",
       "      <td>0.46</td>\n",
       "      <td>1.52</td>\n",
       "      <td>3.18</td>\n",
       "      <td>2.96</td>\n",
       "      <td>1.57</td>\n",
       "      <td>2.86</td>\n",
       "    </tr>\n",
       "    <tr>\n",
       "      <th>4</th>\n",
       "      <td>User 5</td>\n",
       "      <td>0.51</td>\n",
       "      <td>1.2</td>\n",
       "      <td>1.18</td>\n",
       "      <td>0.57</td>\n",
       "      <td>1.54</td>\n",
       "      <td>2.02</td>\n",
       "      <td>3.18</td>\n",
       "      <td>2.78</td>\n",
       "      <td>1.18</td>\n",
       "      <td>2.54</td>\n",
       "    </tr>\n",
       "  </tbody>\n",
       "</table>\n",
       "</div>"
      ],
      "text/plain": [
       "  User ID  Category 1  Category 2  Category 3  Category 4  Category 5  \\\n",
       "0  User 1        0.93         1.8        2.29        0.62        0.80   \n",
       "1  User 2        1.02         2.2        2.66        0.64        1.42   \n",
       "2  User 3        1.22         0.8        0.54        0.53        0.24   \n",
       "3  User 4        0.45         1.8        0.29        0.57        0.46   \n",
       "4  User 5        0.51         1.2        1.18        0.57        1.54   \n",
       "\n",
       "   Category 6  Category 7  Category 8  Category 9  Category 10  \n",
       "0        2.42        3.19        2.79        1.82         2.42  \n",
       "1        3.18        3.21        2.63        1.86         2.32  \n",
       "2        1.54        3.18        2.80        1.31         2.50  \n",
       "3        1.52        3.18        2.96        1.57         2.86  \n",
       "4        2.02        3.18        2.78        1.18         2.54  "
      ]
     },
     "execution_count": 98,
     "metadata": {},
     "output_type": "execute_result"
    }
   ],
   "source": [
    "data.head()"
   ]
  },
  {
   "cell_type": "markdown",
   "metadata": {},
   "source": [
    "Attribute 1 : Unique user id\n",
    "\n",
    "Attribute 2(Category1) : Average user feedback on art galleries\n",
    "\n",
    "Attribute 3 : Average user feedback on dance clubs\n",
    "\n",
    "Attribute 4 : Average user feedback on juice bars\n",
    "\n",
    "Attribute 5 : Average user feedback on restaurants\n",
    "\n",
    "Attribute 6 : Average user feedback on museums\n",
    "\n",
    "Attribute 7 : Average user feedback on resorts\n",
    "\n",
    "Attribute 8 : Average user feedback on parks/picnic spots\n",
    "\n",
    "Attribute 9 : Average user feedback on beaches\n",
    "\n",
    "Attribute 10 : Average user feedback on theaters\n",
    "\n",
    "Attribute 11(Category10) : Average user feedback on religious institutions"
   ]
  },
  {
   "cell_type": "code",
   "execution_count": 84,
   "metadata": {},
   "outputs": [],
   "source": [
    "X = data.values\n",
    "X = data.iloc[:, [5, 9]].values\n",
    "# Category5,9 값만 이용"
   ]
  },
  {
   "cell_type": "code",
   "execution_count": 90,
   "metadata": {
    "scrolled": true
   },
   "outputs": [
    {
     "data": {
      "image/png": "[encoded data removed]",
      "text/plain": [
       "<matplotlib.figure.Figure at 0x19a5fd8c128>"
      ]
     },
     "metadata": {},
     "output_type": "display_data"
    }
   ],
   "source": [
    "plt.scatter(X[:,0],X[:,1],c='black',label='unclustered data')\n",
    "plt.xlabel('Average user feedback on restaurants')\n",
    "plt.ylabel('Average user feedback on religious institutions')\n",
    "plt.legend()\n",
    "plt.title('Plot of data points')\n",
    "plt.show()\n",
    "# 데이터 시각화"
   ]
  },
  {
   "cell_type": "code",
   "execution_count": 93,
   "metadata": {},
   "outputs": [],
   "source": [
    "class Kmeans: #Kmeans라는 클래스를 정의합니다.\n",
    "    def __init__(self,X,K): #Kmenas 클래스의 초기값(디폴트값)을 정해줍니다.\n",
    "        self.X=X # X변수는 입력되는 데이터를 의미합니다.\n",
    "        self.Output={} # 클러스터 id와 값을 저장하는 딕셔너리입니다.\n",
    "        self.Centroids=np.array([]).reshape(self.X.shape[1],0) # 중심점을 의미합니다.\n",
    "        self.K=K # K변수는 클러스터 개수를 의미합니다,\n",
    "        self.m=self.X.shape[0] #Kmeans 클래스의 변수중 m은 입력된 X(데이터)의 row개수를 출력합니다.\n",
    "        \n",
    "    def kmeanspp(self,X,K):\n",
    "        # kmenaspp은 임의로 정해지는 초기값을 정해주는 방식입니다.\n",
    "        # k=3이라면 3개의 중심점이 필요한데 이떄 첫번쨰 초기값(C1)은 임의로 정하고 그 다음 초기값은\n",
    "        # C1과 멀리 떨어져있는 점을 선택할 확률이 높을 수 있게 조절해줍니다.\n",
    "        # 기존의 방법은 3개의 점 모두 랜덤으로 선택하는 방식입니다.\n",
    "        # kmeanspp을 쓰는 이유는 kmeans알고리즘은 초기값이 매우 중요한데 초기값이 서로 가까운 점끼리 선택됐을떄 성능이 매우 안좋기 떄문입니다.\n",
    "        i=rd.randint(0,X.shape[0]) # 첫번쨰 초기값은 랜덤으로 선택합니다.\n",
    "        Centroid_temp=np.array([X[i]])\n",
    "        for k in range(1,K):\n",
    "            D=np.array([])\n",
    "            for x in X:\n",
    "                D=np.append(D,(np.sum((x-Centroid_temp)**2)))\n",
    "            prob=D/np.sum(D)\n",
    "            cummulative_prob=np.cumsum(prob)\n",
    "            r=rd.random()\n",
    "            i=0\n",
    "            for j,p in enumerate(cummulative_prob):\n",
    "                if r<p:\n",
    "                    i=j\n",
    "                    break\n",
    "            Centroid_temp=np.append(Centroid_temp,[X[i]],axis=0)\n",
    "        return Centroid_temp.T\n",
    "        # 확률이 D(x)^2(유클리디안 제곱 거리)에 비례하는 편중 확률 분포를 사용하여 임의의 데이터를 선택한 후, n번째 중심으로 설정합니다.\n",
    "        # 앞서 설명했드시 첫번째 초기값에서 먼 점을 선택할 수 있도록 확률을 조정해주는 과정입니다.\n",
    "    \n",
    "    def fit(self,n_iter):\n",
    "        # n_iter는 반복횟수를 의미합니다.\n",
    "        self.Centroids=self.kmeanspp(self.X,self.K)\n",
    "        # 중심점은 kmeanspp의 결과입니다.\n",
    "        \n",
    "        for n in range(n_iter):\n",
    "            EuclidianDistance=np.array([]).reshape(self.m,0)\n",
    "            for k in range(self.K):\n",
    "                tempDist=np.sum((self.X-self.Centroids[:,k])**2,axis=1) \n",
    "                #데이터와 각 중심점과의 거리의 합을 순서대로 구합니다.\n",
    "                EuclidianDistance=np.c_[EuclidianDistance,tempDist]\n",
    "            C=np.argmin(EuclidianDistance,axis=1)+1\n",
    "            # 데이터와 각 중심점과의 거리에서 가장 거리가 짧은 중심점과 같은 군집으로 분류됩니다.\n",
    "            Y={}\n",
    "            for k in range(self.K):\n",
    "                Y[k+1]=np.array([]).reshape(2,0)\n",
    "            for i in range(self.m):\n",
    "                Y[C[i]]=np.c_[Y[C[i]],self.X[i]]\n",
    "                #C는 클러스터(군집) 인덱스이고 같은 군집으로 분류된 데이터를 추가합니다\n",
    "        \n",
    "            for k in range(self.K):\n",
    "                Y[k+1]=Y[k+1].T\n",
    "                \n",
    "            for k in range(self.K):\n",
    "                self.Centroids[:,k]=np.mean(Y[k+1],axis=0)\n",
    "                # 중심점이 각 클러스터별 평균점으로 이동합니다.\n",
    "            self.Output=Y\n",
    "            # Output(=Y) = {클러스터 인덱스: 클러스터에 속해있는 점} 형태입니다.\n",
    "        # 클러스터들의 평균점으로 중심점을 계속 이동해나갑니다. 중심점 = 평균점이 되면 더이상 중심점이 이동하지 않습니다.\n",
    "            \n",
    "    \n",
    "    def predict(self):\n",
    "        return self.Output,self.Centroids\n",
    "    #self.predict를 실행하면 Output값과 Centroids의 전치값을 반환합니다."
   ]
  },
  {
   "cell_type": "code",
   "execution_count": 94,
   "metadata": {},
   "outputs": [],
   "source": [
    "kmeans=Kmeans(X,3)\n",
    "# X데이터를 3개의 군집으로 분류합니다.\n",
    "kmeans.fit(100)\n",
    "# 100번 시행합니다.\n",
    "Output,Centroids=kmeans.predict()"
   ]
  },
  {
   "cell_type": "code",
   "execution_count": 96,
   "metadata": {},
   "outputs": [
    {
     "data": {
      "image/png": "[encoded data removed]",
      "text/plain": [
       "<matplotlib.figure.Figure at 0x19a5ff05390>"
      ]
     },
     "metadata": {},
     "output_type": "display_data"
    }
   ],
   "source": [
    "color=['r','g','b']\n",
    "labelling=['cluster A','cluster B','cluster C']\n",
    "for k in range(3):\n",
    "    plt.scatter(Output[k+1][:,0],Output[k+1][:,1],c=color[k],label=labelling[k])\n",
    "plt.scatter(Centroids[0,:],Centroids[1,:],s=50,c='gold',label='Centroids')\n",
    "plt.xlabel('Average user feedback on restaurants')\n",
    "plt.ylabel('Average user feedback on religious institutions')\n",
    "plt.legend()\n",
    "plt.show()"
   ]
  },
  {
   "cell_type": "code",
   "execution_count": null,
   "metadata": {},
   "outputs": [],
   "source": []
  }
 ],
 "metadata": {
  "kernelspec": {
   "display_name": "Python 3",
   "language": "python",
   "name": "python3"
  },
  "language_info": {
   "codemirror_mode": {
    "name": "ipython",
    "version": 3
   },
   "file_extension": ".py",
   "mimetype": "text/x-python",
   "name": "python",
   "nbconvert_exporter": "python",
   "pygments_lexer": "ipython3",
   "version": "3.6.6"
  }
 },
 "nbformat": 4,
 "nbformat_minor": 2
}
