{
 "cells": [
  {
   "cell_type": "markdown",
   "metadata": {},
   "source": [
    "# Reference\n",
    "\n",
    "https://github.com/scikit-learn/scikit-learn/issues/8399\n",
    "\n",
    "https://stackoverflow.com/questions/46480457/difference-between-min-samples-split-and-min-samples-leaf-in-sklearn-decisiontre/46488222\n",
    "\n",
    "https://stackoverrun.com/ko/q/12745601"
   ]
  },
  {
   "cell_type": "markdown",
   "metadata": {},
   "source": [
    "# min_samples_split vs min_samples_leaf"
   ]
  },
  {
   "cell_type": "markdown",
   "metadata": {},
   "source": [
    "**min_samples_split:**\n",
    "- 노드가 분기할 수 있는 최소 샘플 개수\n",
    "\n",
    "**min_samples_leaf:**\n",
    "- 리프 로드가 되기 위한 최소한의 샘플 개수"
   ]
  },
  {
   "cell_type": "markdown",
   "metadata": {},
   "source": [
    "min_samples_split 개수 - 1 = min_samples_leaf 개수 아닌가? 라는 의문\n",
    "\n",
    "즉, 노드가 더이상 분기 되지않으면 곧 리프 노드가 아닌가? 이렇다면 왜 굳이 비슷한 파라미터 2개를 만들어 놨을까?\n",
    "\n",
    "(ex. 만약 min_samples_split =  5 이면 샘플을 4개 가진 노드는 leaf가 된다. 이 말은 곧 min_samples_leaf = 4 랑 같은 거 아닌가?)"
   ]
  },
  {
   "cell_type": "markdown",
   "metadata": {},
   "source": [
    "The main difference between the two is that min_samples_leaf guarantees a minimum number of samples in a leaf,\n",
    "\n",
    "while min_samples_split can create arbitrary small leaves, though min_samples_split is more common in the literature."
   ]
  },
  {
   "cell_type": "markdown",
   "metadata": {},
   "source": [
    "To get a grasp of this piece of documentation I think you should make the distinction between a leaf (also called external node) and an internal node. An internal node will have further splits (also called children), while a leaf is by definition a node without any children (without any further splits).\n",
    "\n",
    "min_samples_split specifies the minimum number of samples required to split an internal node, while min_samples_leaf specifies the minimum number of samples required to be at a leaf node.\n",
    "\n",
    "For instance, if min_samples_split = 5, and there are 7 samples at an internal node, then the split is allowed. But let's say the split results in two leaves, one with 1 sample, and another with 6 samples. If min_samples_leaf = 2, then the split won't be allowed (even if the internal node has 7 samples) because one of the leaves resulted will have less then the minimum number of samples required to be at a leaf node.\n",
    "\n",
    "As the documentation referenced above mentions, min_samples_leaf guarantees a minimum number of samples in every leaf, no matter the value of min_samples_split."
   ]
  },
  {
   "cell_type": "markdown",
   "metadata": {},
   "source": [
    "만약 min_samples_split = 5 일때, 노드에 7개의 샘플이 있다고하자, 5개 이상의 샘플이 있기 때문에 분할이 가능하다. 근데 분할 결과가 1개,6개로 나왔다고 하자.\n",
    "\n",
    "이때 min_samples_leaf = 2 라면, 이 분할은 실행되지않는다.(min_samples_split 조건을 만족했더라도)\n",
    "\n",
    "결론: min_samples_leaf는 모든 리프 노드에 영항을 미치는 파라미터다\n",
    "\n",
    "ex. min_samples_leaf = 2 라면, 모든 리프 노드의 샘플 개수는 2개 이상이다\n",
    "\n",
    "min_samples_split는 min_samples_leaf의 영향을 받는다. 분할 결과가 min_samples_leaf보다 작으면 실행되지 않기때문."
   ]
  }
 ],
 "metadata": {
  "kernelspec": {
   "display_name": "Python 3",
   "language": "python",
   "name": "python3"
  },
  "language_info": {
   "codemirror_mode": {
    "name": "ipython",
    "version": 3
   },
   "file_extension": ".py",
   "mimetype": "text/x-python",
   "name": "python",
   "nbconvert_exporter": "python",
   "pygments_lexer": "ipython3",
   "version": "3.6.6"
  }
 },
 "nbformat": 4,
 "nbformat_minor": 2
}
